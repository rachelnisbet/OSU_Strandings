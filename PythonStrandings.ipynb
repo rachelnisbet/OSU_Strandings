{
 "cells": [
  {
   "cell_type": "code",
   "execution_count": 3,
   "id": "e51c6027-ccf9-4933-8f9c-6cf5e3c6af91",
   "metadata": {},
   "outputs": [],
   "source": [
    "import pandas as pd\n",
    "\n",
    "# Read the SAS dataset into a pandas DataFrame\n",
    "strandings_df = pd.read_csv(\"https://raw.githubusercontent.com/rachelnisbet/OSU_Strandings/refs/heads/main/OSU_STRANDINGS.csv\")\n"
   ]
  },
  {
   "cell_type": "code",
   "execution_count": 4,
   "id": "7fa42c6c-15f7-43ad-b787-97f3ad61cad8",
   "metadata": {},
   "outputs": [
    {
     "name": "stdout",
     "output_type": "stream",
     "text": [
      "   Individual               OccurID           State    County  \\\n",
      "0       10197  PBFAV20150901i000003  Santa Catarina  Garopaba   \n",
      "1        9796  PBFAV20150901i000002  Santa Catarina  Garopaba   \n",
      "2        9729  PBFAV20150901i000001  Santa Catarina  Garopaba   \n",
      "3        6409  PBFRE20150903i000002  Santa Catarina  Garopaba   \n",
      "4       10238  PBFAV20150903i000003  Santa Catarina  Imbituba   \n",
      "\n",
      "               Beach Monitoring         Date_Time  Latitude  Longitude  \\\n",
      "0  Praia da Silveira      Daily  01SEP15:08:01:00 -28.04189  -48.61000   \n",
      "1  Praia da Silveira      Daily  01SEP15:08:14:00 -28.04025  -48.60937   \n",
      "2  Praia da Silveira      Daily  01SEP15:08:23:00 -28.04007  -48.60928   \n",
      "3  Praia de Garopaba      Daily  03SEP15:07:40:00 -28.02122  -48.62161   \n",
      "4      Praia do Rosa      Daily  03SEP15:07:54:00 -28.12827  -48.64144   \n",
      "\n",
      "  Condition  ...    Suborder        Family       Genus  \\\n",
      "0      Dead  ...         NaN  Spheniscidae  Spheniscus   \n",
      "1      Dead  ...         NaN  Spheniscidae  Spheniscus   \n",
      "2      Dead  ...         NaN  Spheniscidae  Spheniscus   \n",
      "3      Dead  ...  Cryptodira   Cheloniidae    Chelonia   \n",
      "4      Dead  ...         NaN  Spheniscidae  Spheniscus   \n",
      "\n",
      "                   Species  DevStage LOCATION  Year month  day  season  \n",
      "0  Spheniscus magellanicus  Juvenile    CENTR  2015     9    1    fall  \n",
      "1  Spheniscus magellanicus  Juvenile    CENTR  2015     9    1    fall  \n",
      "2  Spheniscus magellanicus  Juvenile    CENTR  2015     9    1    fall  \n",
      "3           Chelonia mydas  Juvenile    CENTR  2015     9    3    fall  \n",
      "4  Spheniscus magellanicus     Adult    SOUTH  2015     9    3    fall  \n",
      "\n",
      "[5 rows x 22 columns]\n"
     ]
    }
   ],
   "source": [
    "#Take a look at the dataset\n",
    "print(strandings_df.head())"
   ]
  },
  {
   "cell_type": "code",
   "execution_count": 11,
   "id": "8607e4c5-de6c-483f-8055-d8dbfc8ee084",
   "metadata": {},
   "outputs": [],
   "source": [
    "# Calculate frequency counts\n",
    "condition_freq=strandings_df['Condition'].value_counts()\n",
    "class_freq=strandings_df['Class'].value_counts()\n",
    "loc_freq=strandings_df['LOCATION'].value_counts()\n",
    "devstage_freq=strandings_df['DevStage'].value_counts()"
   ]
  },
  {
   "cell_type": "code",
   "execution_count": 19,
   "id": "ac9efaff-9397-43d2-8e78-3869bff457bb",
   "metadata": {},
   "outputs": [
    {
     "name": "stdout",
     "output_type": "stream",
     "text": [
      "***Frequency counts for Condition***\n",
      "Dead     2770\n",
      "Alive     226\n",
      "Name: Condition, dtype: int64\n",
      "***Frequency counts for Class***\n",
      "Aves        1892\n",
      "Reptilia    1005\n",
      "Mammalia      99\n",
      "Name: Class, dtype: int64\n",
      "***Frequency counts for Location***\n",
      "CENTR    1913\n",
      "NORTH     634\n",
      "SOUTH     182\n",
      "Name: LOCATION, dtype: int64\n",
      "***Frequency counts for DevStage***\n",
      "Juvenile    2240\n",
      "Unknown      373\n",
      "Adult        369\n",
      "Young         14\n",
      "Name: DevStage, dtype: int64\n"
     ]
    }
   ],
   "source": [
    "# Print frequency counts\n",
    "print(\"***Frequency counts for Condition***\")\n",
    "print(condition_freq)\n",
    "\n",
    "print(\"***Frequency counts for Class***\")\n",
    "print(class_freq)\n",
    "\n",
    "print(\"***Frequency counts for Location***\")\n",
    "print(loc_freq)\n",
    "\n",
    "print(\"***Frequency counts for DevStage***\")\n",
    "print(devstage_freq)"
   ]
  },
  {
   "cell_type": "code",
   "execution_count": null,
   "id": "566e5817-22b6-4516-86b2-05a128f34ca5",
   "metadata": {},
   "outputs": [],
   "source": []
  },
  {
   "cell_type": "code",
   "execution_count": null,
   "id": "8d3063ea-e12a-4a97-9997-633ee0fb81f0",
   "metadata": {},
   "outputs": [],
   "source": []
  },
  {
   "cell_type": "code",
   "execution_count": null,
   "id": "267f4975-8a51-4377-a105-25daba45e8b6",
   "metadata": {},
   "outputs": [],
   "source": []
  }
 ],
 "metadata": {
  "kernelspec": {
   "display_name": "Python 3 (ipykernel)",
   "language": "python",
   "name": "python3"
  },
  "language_info": {
   "codemirror_mode": {
    "name": "ipython",
    "version": 3
   },
   "file_extension": ".py",
   "mimetype": "text/x-python",
   "name": "python",
   "nbconvert_exporter": "python",
   "pygments_lexer": "ipython3",
   "version": "3.10.6"
  }
 },
 "nbformat": 4,
 "nbformat_minor": 5
}
